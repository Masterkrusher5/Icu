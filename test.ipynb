{
 "cells": [
  {
   "cell_type": "code",
   "execution_count": 3,
   "metadata": {},
   "outputs": [
    {
     "name": "stdout",
     "output_type": "stream",
     "text": [
      "Ultralytics YOLOv8.2.32 🚀 Python-3.11.5 torch-2.2.1+cpu CPU (AMD Ryzen 7 4800H with Radeon Graphics)\n",
      "YOLOv9e summary (fused): 687 layers, 57380255 parameters, 0 gradients, 189.1 GFLOPs\n",
      "\n",
      "image 1/1 D:\\Intel\\images\\46.jpg: 192x224 2 Doctors, 3 Staffs, 616.4ms\n",
      "Speed: 1.0ms preprocess, 616.4ms inference, 1.0ms postprocess per image at shape (1, 3, 192, 224)\n",
      "Results saved to \u001b[1mD:\\Intel\\testserv\\runs\\detect\\predict\\predict\u001b[0m\n",
      "💡 Learn more at https://docs.ultralytics.com/modes/predict\n"
     ]
    }
   ],
   "source": [
    "import os\n",
    "import cv2\n",
    "import matplotlib.pyplot as plt\n",
    "\n",
    "!yolo task=detect mode=predict model='D:\\\\Intel\\\\testserv\\\\icu_best.pt' conf=0.9 source='D:\\\\Intel\\\\images\\\\46.jpg' save=True project='D:\\\\Intel\\\\testserv\\\\runs\\\\detect\\\\predict'\n",
    "results_path = 'D:\\\\Intel\\\\testserv\\\\runs\\\\detect\\\\predict'\n",
    "\n",
    "def display_images_from_directory(directory):\n",
    "    image_files = [f for f in os.listdir(directory) if os.path.isfile(os.path.join(directory, f))]\n",
    "    \n",
    "    for image_file in image_files:\n",
    "        image_path = os.path.join(directory, image_file)\n",
    "        image = cv2.imread(image_path)\n",
    "        image_rgb = cv2.cvtColor(image, cv2.COLOR_BGR2RGB)\n",
    "        \n",
    "        plt.figure(figsize=(10, 10))\n",
    "        plt.imshow(image_rgb)\n",
    "        plt.title(image_file)\n",
    "        plt.axis('off')\n",
    "        plt.show()\n",
    "\n",
    "display_images_from_directory(results_path)\n",
    "\n"
   ]
  },
  {
   "cell_type": "code",
   "execution_count": null,
   "metadata": {},
   "outputs": [],
   "source": []
  }
 ],
 "metadata": {
  "kernelspec": {
   "display_name": "Python 3",
   "language": "python",
   "name": "python3"
  },
  "language_info": {
   "codemirror_mode": {
    "name": "ipython",
    "version": 3
   },
   "file_extension": ".py",
   "mimetype": "text/x-python",
   "name": "python",
   "nbconvert_exporter": "python",
   "pygments_lexer": "ipython3",
   "version": "3.10.11"
  }
 },
 "nbformat": 4,
 "nbformat_minor": 2
}
